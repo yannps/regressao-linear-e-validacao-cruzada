{
 "cells": [
  {
   "cell_type": "code",
   "execution_count": null,
   "metadata": {},
   "outputs": [],
   "source": [
    "import csv\n",
    "\n",
    "arquivo = open('items.csv')\n",
    "\n",
    "itens = csv.DictReader(arquivo)\n",
    "\n",
    "for item in itens:\n",
    "    print(\"asin:\", item[\"asin\"], \" - brand:\", item[\"brand\"], \" - title:\", item[\"title\"],\" - url:\", item[\"url\"], \n",
    "          \" - image:\", item[\"image\"], \"rating:\", item[\"rating\"], \" - reviewUrl:\", item[\"reviewUrl\"], \" - totalReviews:\", item[\"totalReviews\"],\n",
    "          \" - prices\", item[\"prices\"])"
   ]
  },
  {
   "cell_type": "code",
   "execution_count": null,
   "metadata": {},
   "outputs": [],
   "source": []
  }
 ],
 "metadata": {
  "kernelspec": {
   "display_name": "Python 3",
   "language": "python",
   "name": "python3"
  },
  "language_info": {
   "codemirror_mode": {
    "name": "ipython",
    "version": 3
   },
   "file_extension": ".py",
   "mimetype": "text/x-python",
   "name": "python",
   "nbconvert_exporter": "python",
   "pygments_lexer": "ipython3",
   "version": "3.7.3"
  }
 },
 "nbformat": 4,
 "nbformat_minor": 2
}
